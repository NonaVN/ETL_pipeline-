{
 "cells": [
  {
   "cell_type": "markdown",
   "id": "ac267d1f",
   "metadata": {},
   "source": [
    "# Outlier Formula \n",
    "The formula is used to eliminate all data points that fall outside the range \n",
    "determined by the quartiles plus or minus 1.5 times the Interquartile Range (IQR)."
   ]
  },
  {
   "cell_type": "code",
   "execution_count": 1,
   "id": "f97b1b30",
   "metadata": {},
   "outputs": [],
   "source": [
    "def remove_outliers(data):\n",
    "   \n",
    "    df = data.copy()\n",
    "   \n",
    "    for col in list(df.columns):\n",
    " \n",
    "          Q1 = df[str(col)].quantile(0.05)\n",
    "          Q3 = df[str(col)].quantile(0.95)\n",
    "          IQR = Q3 - Q1\n",
    "          lower_bound = Q1 - 1.5*IQR\n",
    "          upper_bound = Q3 + 1.5*IQR\n",
    " \n",
    "          df = df[(df[str(col)] >= lower_bound) & \n",
    "\n",
    "        (df[str(col)] <= upper_bound)]\n",
    "   \n",
    "    return df"
   ]
  },
  {
   "cell_type": "code",
   "execution_count": null,
   "id": "72f29294",
   "metadata": {},
   "outputs": [],
   "source": []
  }
 ],
 "metadata": {
  "kernelspec": {
   "display_name": "Python 3 (ipykernel)",
   "language": "python",
   "name": "python3"
  },
  "language_info": {
   "codemirror_mode": {
    "name": "ipython",
    "version": 3
   },
   "file_extension": ".py",
   "mimetype": "text/x-python",
   "name": "python",
   "nbconvert_exporter": "python",
   "pygments_lexer": "ipython3",
   "version": "3.8.13"
  }
 },
 "nbformat": 4,
 "nbformat_minor": 5
}
