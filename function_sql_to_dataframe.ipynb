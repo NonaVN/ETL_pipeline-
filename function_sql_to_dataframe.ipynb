{
 "cells": [
  {
   "cell_type": "code",
   "execution_count": 1,
   "id": "b9339377",
   "metadata": {},
   "outputs": [],
   "source": [
    "def read_sql_to_dataframe (connection_string, sql_query):\n",
    "    '''This function takes in a SQL database connection string and SQL query, \n",
    "    and reads the data from the database into a pandas DataFrame.\n",
    "    Parameter1: \n",
    "    connection_string (str): A string representing the connection information for the SQL database.\n",
    "    Parameter2:\n",
    "    sql_query (str): A string containing the SQL query to be executed.\n",
    "    when specifying a string that contains a complicated query, you can use triple quotes (\"\"\")\n",
    "    to enclose the string. This allows you to include line breaks and other special characters'''\n",
    "    import sqlalchemy \n",
    "    import pandas as pd\n",
    "    from sqlalchemy import create_engine, text\n",
    "    connection = sqlalchemy.create_engine(connection_string)\n",
    "    q=sql_query\n",
    "    df = pd.DataFrame(connection.connect().execute(text(sql_query)))\n",
    "    return(df)    \n",
    "    "
   ]
  },
  {
   "cell_type": "code",
   "execution_count": null,
   "id": "5ab2eb42",
   "metadata": {},
   "outputs": [],
   "source": []
  }
 ],
 "metadata": {
  "kernelspec": {
   "display_name": "Python 3 (ipykernel)",
   "language": "python",
   "name": "python3"
  },
  "language_info": {
   "codemirror_mode": {
    "name": "ipython",
    "version": 3
   },
   "file_extension": ".py",
   "mimetype": "text/x-python",
   "name": "python",
   "nbconvert_exporter": "python",
   "pygments_lexer": "ipython3",
   "version": "3.8.13"
  }
 },
 "nbformat": 4,
 "nbformat_minor": 5
}
